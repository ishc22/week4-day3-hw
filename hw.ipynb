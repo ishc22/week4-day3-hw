{
 "cells": [
  {
   "cell_type": "code",
   "execution_count": null,
   "id": "78694a4a",
   "metadata": {},
   "outputs": [],
   "source": [
    "#Exercise #1\n",
    "#Reverse the list below in-place using an in-place algorithm.\n",
    "#For extra credit: Reverse the strings at the same time.\n",
    "words = ['this', 'is', 'a', 'sentence', '.']"
   ]
  },
  {
   "cell_type": "code",
   "execution_count": 5,
   "id": "68f2fb45",
   "metadata": {},
   "outputs": [
    {
     "data": {
      "text/plain": [
       "['.', 'a', 'is', 'sentence', 'this']"
      ]
     },
     "execution_count": 5,
     "metadata": {},
     "output_type": "execute_result"
    }
   ],
   "source": [
    "words = ['this', 'is', 'a', 'sentence', '.']\n",
    "def bubble_sort(lst):\n",
    "    #set flag\n",
    "    is_sorted = False\n",
    "    #while not while loop because flag is false. \n",
    "    while not is_sorted:\n",
    "        #convert flag to true, as escape character. \n",
    "        is_sorted = True\n",
    "        #get lenght -1 because we cant compare the last number. \n",
    "        for idx in range(len(lst) - 1):\n",
    "            if lst[idx] > lst[idx+1]:\n",
    "                lst[idx], lst[idx+1] = lst[idx+1], lst[idx]\n",
    "                #once done sorting this will take us out od our range. \n",
    "                is_sorted = False\n",
    "    return lst\n",
    "bubble_sort(words)"
   ]
  },
  {
   "cell_type": "code",
   "execution_count": 4,
   "id": "c398ac88",
   "metadata": {},
   "outputs": [],
   "source": [
    "#Exercise #2\n",
    "#Create a function that counts how many distinct words are in the string below, \n",
    "#then outputs a dictionary with the words as the key and the value as the amount \n",
    "#of times that word appears in the string.\n",
    "\n",
    "#Example Output:{'in': 1, 'computing': 1, 'a': 5, ...}\n",
    "\n",
    "a_text = '''\n",
    "    In computing, a hash table hash map is a data structure which implements \n",
    "    an associative array abstract data type, a structure that can map keys to values. \n",
    "    A hash table uses a hash function to compute an index into an array of buckets or \n",
    "    slots from which the desired value can be found\n",
    "    '''"
   ]
  },
  {
   "cell_type": "code",
   "execution_count": null,
   "id": "b14220af",
   "metadata": {},
   "outputs": [],
   "source": [
    "#I honestly have no idea, not even sure where to start. \n",
    "#I guess i can split every word into single charatcters, creating a huge list of just characters \n",
    "#then loop through every character and count them using count, but not sure. \n"
   ]
  },
  {
   "cell_type": "code",
   "execution_count": 2,
   "id": "3e589e16",
   "metadata": {},
   "outputs": [],
   "source": [
    "#Exercise #3\n",
    "\n",
    "#Write a function implementing a Linear Search Algorithm. \n",
    "#A linear search is a method for finding an element within a list. \n",
    "#It sequentially checks each element of the list until a match is found or the whole list has been searched. \n",
    "#If you do not find a match, return -1\n",
    "\n",
    "nums_list = [10,23,45,70,11,15]\n",
    "target = 70\n",
    "\n",
    "# If number is not present return -1\n",
    "            "
   ]
  },
  {
   "cell_type": "code",
   "execution_count": 6,
   "id": "ff975216",
   "metadata": {},
   "outputs": [
    {
     "name": "stdout",
     "output_type": "stream",
     "text": [
      "6\n",
      "0\n",
      "1\n",
      "2\n",
      "3\n",
      "4\n",
      "5\n"
     ]
    }
   ],
   "source": [
    "#LinearSearch(array, key)\n",
    "#  for each item in the array\n",
    "#   if item == value\n",
    "#      return its index\n",
    "\n",
    "nums_list = [10,23,45,70,11,15]\n",
    "print(len(nums_list))\n",
    "for i in range(len(nums_list)):\n",
    "    print(i)"
   ]
  },
  {
   "cell_type": "code",
   "execution_count": 13,
   "id": "53db5d33",
   "metadata": {},
   "outputs": [
    {
     "data": {
      "text/plain": [
       "'found num at index 3'"
      ]
     },
     "execution_count": 13,
     "metadata": {},
     "output_type": "execute_result"
    }
   ],
   "source": [
    "nums_list = [10,23,45,70,11,15]\n",
    "target = 70\n",
    "\n",
    "def linear_search(lst, target):\n",
    "    #start a for loop every number in lenght of the list.\n",
    "    for indx_num in range(len(lst)):\n",
    "       # f the indexed value macthes the value were looking for retunr the number\n",
    "        if lst[indx_num] == target:\n",
    "            return 'found num at index ' + str(indx_num)\n",
    "        #otherwise return -1\n",
    "    return -1 \n",
    "\n",
    "linear_search(nums_list, target)"
   ]
  },
  {
   "cell_type": "code",
   "execution_count": null,
   "id": "f5a74869",
   "metadata": {},
   "outputs": [],
   "source": []
  }
 ],
 "metadata": {
  "kernelspec": {
   "display_name": "Python 3 (ipykernel)",
   "language": "python",
   "name": "python3"
  },
  "language_info": {
   "codemirror_mode": {
    "name": "ipython",
    "version": 3
   },
   "file_extension": ".py",
   "mimetype": "text/x-python",
   "name": "python",
   "nbconvert_exporter": "python",
   "pygments_lexer": "ipython3",
   "version": "3.9.13"
  }
 },
 "nbformat": 4,
 "nbformat_minor": 5
}
